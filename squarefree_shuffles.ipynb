{
 "metadata": {
  "name": "exhaustive_squarefree_shuffles2"
 },
 "nbformat": 3,
 "nbformat_minor": 0,
 "worksheets": [
  {
   "cells": [
    {
     "cell_type": "markdown",
     "metadata": {},
     "source": [
      "<h1>Short squarefree words with a squarefree self-shuffle</h1>\n",
      "\n",
      "The computations below show that, for every n with 3 <= n <= 200, \n",
      "there exists a squarefree word of length n with a squarefree self-shuffle."
     ]
    },
    {
     "cell_type": "code",
     "collapsed": false,
     "input": [
      "def vtm(n):\n",
      "    \"\"\"\n",
      "    Return the first n letters of the fixed point of\n",
      "    0 -> 1, 1 -> 20, 2 -> 210.\n",
      "    \"\"\"\n",
      "    h = ['1', '20', '210']\n",
      "    w = '210'\n",
      "    i = 1\n",
      "    while len(w) < n:\n",
      "        w += h[int(w[i])]\n",
      "        i += 1\n",
      "    return w[:n]"
     ],
     "language": "python",
     "metadata": {},
     "outputs": [],
     "prompt_number": 1
    },
    {
     "cell_type": "code",
     "collapsed": false,
     "input": [
      "import re\n",
      "sq = re.compile(r\"(.+)\\1\")"
     ],
     "language": "python",
     "metadata": {},
     "outputs": [],
     "prompt_number": 2
    },
    {
     "cell_type": "code",
     "collapsed": false,
     "input": [
      "vtm(20) # sanity check"
     ],
     "language": "python",
     "metadata": {},
     "outputs": [
      {
       "output_type": "pyout",
       "prompt_number": 3,
       "text": [
        "'21020121012021020120'"
       ]
      }
     ],
     "prompt_number": 3
    },
    {
     "cell_type": "code",
     "collapsed": false,
     "input": [
      "X = vtm(10000)"
     ],
     "language": "python",
     "metadata": {},
     "outputs": [],
     "prompt_number": 4
    },
    {
     "cell_type": "markdown",
     "metadata": {},
     "source": [
      "The next computation shows that, for each n with 29 <= n <= 200, \n",
      "X contains self-shuffling factors. More specifically, for these lengths,\n",
      "there exists a factor w that can be written as w = p_1 s_1 = p_2 s_2 with \n",
      "1 <= |s_1| <= 3 and 1 <= |p_2| <= 3\n",
      "such that the simple self-shuffle p_1 p_2 s_1 s_2 is squarefree."
     ]
    },
    {
     "cell_type": "code",
     "collapsed": false,
     "input": [
      "for n in range(29, 201):\n",
      "    for j in range(1000):\n",
      "        w = X[j: j + n]\n",
      "        u = w[:-1] + w[:1] + w[-1:] + w[1:]\n",
      "        if not sq.search(u):\n",
      "            print(\"{:<3}\".format(n), \"found type (1,1)\")\n",
      "            break\n",
      "        u = w[:-1] + w[:2] + w[-1:] + w[2:]\n",
      "        if not sq.search(u):\n",
      "            print(\"{:<3}\".format(n), \"found type (1,2)\")\n",
      "            break\n",
      "        u = w[:-2] + w[:1] + w[-2:] + w[1:]\n",
      "        if not sq.search(u):\n",
      "            print(\"{:<3}\".format(n), \"found type (2,1)\")\n",
      "            break\n",
      "        u = w[:-1] + w[:3] + w[-1:] + w[3:]\n",
      "        if not sq.search(u):\n",
      "            print(\"{:<3}\".format(n), \"found type (1,3)\")\n",
      "            break\n",
      "        u = w[:-3] + w[:1] + w[-3:] + w[1:]\n",
      "        if not sq.search(u):\n",
      "            print(\"{:<3}\".format(n), \"found type (3,1)\")\n",
      "            break\n",
      "        u = w[:-2] + w[:2] + w[-2:] + w[2:]\n",
      "        if not sq.search(u):\n",
      "            print(\"{:<3}\".format(n), \"found type (2,2)\")\n",
      "            break\n",
      "        u = w[:-2] + w[:3] + w[-2:] + w[3:]\n",
      "        if not sq.search(u):\n",
      "            print(\"{:<3}\".format(n), \"found type (2,3)\")\n",
      "            break\n",
      "        u = w[:-3] + w[:2] + w[-3:] + w[2:]\n",
      "        if not sq.search(u):\n",
      "            print(\"{:<3}\".format(n), \"found type (3,2)\")\n",
      "            break\n",
      "    else:\n",
      "        print(n, \"not found\")"
     ],
     "language": "python",
     "metadata": {},
     "outputs": [
      {
       "output_type": "stream",
       "stream": "stdout",
       "text": [
        "29  found type (1,3)\n",
        "30  found type (3,2)\n",
        "31  found type (1,1)\n",
        "32  found type (1,2)\n",
        "33  found type (1,2)\n",
        "34  found type (3,2)\n",
        "35  found type (1,3)\n",
        "36  found type (1,3)\n",
        "37  found type (2,2)\n",
        "38 "
       ]
      },
      {
       "output_type": "stream",
       "stream": "stdout",
       "text": [
        " found type (2,3)\n",
        "39  found type (1,1)\n",
        "40  found type (2,3)\n",
        "41  found type (1,2)\n",
        "42  found type (2,3)\n",
        "43 "
       ]
      },
      {
       "output_type": "stream",
       "stream": "stdout",
       "text": [
        " found type (3,1)\n",
        "44  found type (3,1)\n",
        "45 "
       ]
      },
      {
       "output_type": "stream",
       "stream": "stdout",
       "text": [
        " found type (2,2)\n",
        "46  found type (3,2)\n",
        "47  found type (1,1)\n",
        "48  found type (1,3)\n",
        "49  found type (1,2)\n",
        "50 "
       ]
      },
      {
       "output_type": "stream",
       "stream": "stdout",
       "text": [
        " found type (2,3)\n",
        "51  found type (1,1)\n",
        "52 "
       ]
      },
      {
       "output_type": "stream",
       "stream": "stdout",
       "text": [
        " found type (1,3)\n",
        "53  found type (3,1)\n",
        "54  found type (2,3)\n",
        "55 "
       ]
      },
      {
       "output_type": "stream",
       "stream": "stdout",
       "text": [
        " found type (1,1)\n",
        "56  found type (2,3)\n",
        "57 "
       ]
      },
      {
       "output_type": "stream",
       "stream": "stdout",
       "text": [
        " found type (1,3)\n",
        "58 "
       ]
      },
      {
       "output_type": "stream",
       "stream": "stdout",
       "text": [
        " found type (2,3)\n",
        "59  found type (1,1)\n",
        "60  found type (3,1)\n",
        "61  found type (2,2)\n",
        "62 "
       ]
      },
      {
       "output_type": "stream",
       "stream": "stdout",
       "text": [
        " found type (2,3)\n",
        "63  found type (1,1)\n",
        "64 "
       ]
      },
      {
       "output_type": "stream",
       "stream": "stdout",
       "text": [
        " found type (2,3)\n",
        "65 "
       ]
      },
      {
       "output_type": "stream",
       "stream": "stdout",
       "text": [
        " found type (1,2)\n",
        "66  found type (2,3)\n",
        "67 "
       ]
      },
      {
       "output_type": "stream",
       "stream": "stdout",
       "text": [
        " found type (3,1)\n",
        "68  found type (1,3)\n",
        "69 "
       ]
      },
      {
       "output_type": "stream",
       "stream": "stdout",
       "text": [
        " found type (2,2)\n",
        "70 "
       ]
      },
      {
       "output_type": "stream",
       "stream": "stdout",
       "text": [
        " found type (3,2)\n",
        "71  found type (1,1)\n",
        "72 "
       ]
      },
      {
       "output_type": "stream",
       "stream": "stdout",
       "text": [
        " found type (1,2)\n",
        "73  found type (2,1)\n",
        "74  found type (2,3)\n",
        "75 "
       ]
      },
      {
       "output_type": "stream",
       "stream": "stdout",
       "text": [
        " found type (1,1)\n",
        "76 "
       ]
      },
      {
       "output_type": "stream",
       "stream": "stdout",
       "text": [
        " found type (1,3)\n",
        "77 "
       ]
      },
      {
       "output_type": "stream",
       "stream": "stdout",
       "text": [
        " found type (2,2)\n",
        "78  found type (3,2)\n",
        "79  found type (1,1)\n",
        "80  found type (1,3)\n",
        "81 "
       ]
      },
      {
       "output_type": "stream",
       "stream": "stdout",
       "text": [
        " found type (1,2)\n",
        "82 "
       ]
      },
      {
       "output_type": "stream",
       "stream": "stdout",
       "text": [
        " found type (3,2)\n",
        "83  found type (1,1)\n",
        "84 "
       ]
      },
      {
       "output_type": "stream",
       "stream": "stdout",
       "text": [
        " found type (1,3)\n",
        "85  found type (1,3)\n",
        "86  found type (2,3)\n",
        "87 "
       ]
      },
      {
       "output_type": "stream",
       "stream": "stdout",
       "text": [
        " found type (1,1)\n",
        "88  found type (2,3)\n",
        "89 "
       ]
      },
      {
       "output_type": "stream",
       "stream": "stdout",
       "text": [
        " found type (1,2)\n",
        "90 "
       ]
      },
      {
       "output_type": "stream",
       "stream": "stdout",
       "text": [
        " found type (3,2)\n",
        "91  found type (1,3)\n",
        "92  found type (3,1)\n",
        "93  found type (2,2)\n",
        "94 "
       ]
      },
      {
       "output_type": "stream",
       "stream": "stdout",
       "text": [
        " found type (3,2)\n",
        "95  found type (1,1)\n",
        "96 "
       ]
      },
      {
       "output_type": "stream",
       "stream": "stdout",
       "text": [
        " found type (1,3)\n",
        "97  found type (1,2)\n",
        "98  found type (2,3)\n",
        "99 "
       ]
      },
      {
       "output_type": "stream",
       "stream": "stdout",
       "text": [
        " found type (1,1)\n",
        "100"
       ]
      },
      {
       "output_type": "stream",
       "stream": "stdout",
       "text": [
        " found type (1,3)\n",
        "101"
       ]
      },
      {
       "output_type": "stream",
       "stream": "stdout",
       "text": [
        " found type (1,3)\n",
        "102 found type (3,2)\n",
        "103"
       ]
      },
      {
       "output_type": "stream",
       "stream": "stdout",
       "text": [
        " found type (1,1)\n",
        "104 found type (1,2)\n",
        "105"
       ]
      },
      {
       "output_type": "stream",
       "stream": "stdout",
       "text": [
        " found type (1,2)\n",
        "106"
       ]
      },
      {
       "output_type": "stream",
       "stream": "stdout",
       "text": [
        " found type (3,2)\n",
        "107"
       ]
      },
      {
       "output_type": "stream",
       "stream": "stdout",
       "text": [
        " found type (1,1)\n",
        "108 found type (1,3)\n",
        "109 found type (2,2)\n",
        "110"
       ]
      },
      {
       "output_type": "stream",
       "stream": "stdout",
       "text": [
        " found type (3,2)\n",
        "111 found type (1,1)\n",
        "112"
       ]
      },
      {
       "output_type": "stream",
       "stream": "stdout",
       "text": [
        " found type (1,3)\n",
        "113"
       ]
      },
      {
       "output_type": "stream",
       "stream": "stdout",
       "text": [
        " found type (1,2)\n",
        "114 found type (2,3)\n",
        "115"
       ]
      },
      {
       "output_type": "stream",
       "stream": "stdout",
       "text": [
        " found type (1,1)\n",
        "116 found type (1,3)\n",
        "117"
       ]
      },
      {
       "output_type": "stream",
       "stream": "stdout",
       "text": [
        " found type (3,1)\n",
        "118"
       ]
      },
      {
       "output_type": "stream",
       "stream": "stdout",
       "text": [
        " found type (3,2)\n",
        "119 found type (1,1)\n",
        "120"
       ]
      },
      {
       "output_type": "stream",
       "stream": "stdout",
       "text": [
        " found type (1,2)\n",
        "121 found type (2,1)\n",
        "122 found type (2,3)\n",
        "123"
       ]
      },
      {
       "output_type": "stream",
       "stream": "stdout",
       "text": [
        " found type (1,1)\n",
        "124"
       ]
      },
      {
       "output_type": "stream",
       "stream": "stdout",
       "text": [
        " found type (1,3)\n",
        "125"
       ]
      },
      {
       "output_type": "stream",
       "stream": "stdout",
       "text": [
        " found type (1,3)\n",
        "126 found type (3,2)\n",
        "127"
       ]
      },
      {
       "output_type": "stream",
       "stream": "stdout",
       "text": [
        " found type (1,1)\n",
        "128 found type (1,2)\n",
        "129"
       ]
      },
      {
       "output_type": "stream",
       "stream": "stdout",
       "text": [
        " found type (1,2)\n",
        "130"
       ]
      },
      {
       "output_type": "stream",
       "stream": "stdout",
       "text": [
        " found type (3,2)\n",
        "131"
       ]
      },
      {
       "output_type": "stream",
       "stream": "stdout",
       "text": [
        " found type (1,3)\n",
        "132 found type (1,3)\n",
        "133 found type (2,2)\n",
        "134"
       ]
      },
      {
       "output_type": "stream",
       "stream": "stdout",
       "text": [
        " found type (2,3)\n",
        "135 found type (1,1)\n",
        "136"
       ]
      },
      {
       "output_type": "stream",
       "stream": "stdout",
       "text": [
        " found type (2,3)\n",
        "137 found type (1,2)\n",
        "138 found type (2,3)\n",
        "139"
       ]
      },
      {
       "output_type": "stream",
       "stream": "stdout",
       "text": [
        " found type (3,1)\n",
        "140"
       ]
      },
      {
       "output_type": "stream",
       "stream": "stdout",
       "text": [
        " found type (3,1)\n",
        "141"
       ]
      },
      {
       "output_type": "stream",
       "stream": "stdout",
       "text": [
        " found type (2,2)\n",
        "142 found type (3,2)\n",
        "143"
       ]
      },
      {
       "output_type": "stream",
       "stream": "stdout",
       "text": [
        " found type (1,1)\n",
        "144 found type (1,3)\n",
        "145"
       ]
      },
      {
       "output_type": "stream",
       "stream": "stdout",
       "text": [
        " found type (1,2)\n",
        "146"
       ]
      },
      {
       "output_type": "stream",
       "stream": "stdout",
       "text": [
        " found type (2,3)\n",
        "147 found type (1,1)\n",
        "148"
       ]
      },
      {
       "output_type": "stream",
       "stream": "stdout",
       "text": [
        " found type (1,3)\n",
        "149 found type (3,1)\n",
        "150 found type (2,3)\n",
        "151"
       ]
      },
      {
       "output_type": "stream",
       "stream": "stdout",
       "text": [
        " found type (1,1)\n",
        "152 found type (2,3)\n",
        "153"
       ]
      },
      {
       "output_type": "stream",
       "stream": "stdout",
       "text": [
        " found type (1,3)\n",
        "154"
       ]
      },
      {
       "output_type": "stream",
       "stream": "stdout",
       "text": [
        " found type (3,2)\n",
        "155"
       ]
      },
      {
       "output_type": "stream",
       "stream": "stdout",
       "text": [
        " found type (1,3)\n",
        "156 found type (3,1)\n",
        "157 found type (2,2)\n",
        "158"
       ]
      },
      {
       "output_type": "stream",
       "stream": "stdout",
       "text": [
        " found type (3,2)\n",
        "159 found type (1,1)\n",
        "160"
       ]
      },
      {
       "output_type": "stream",
       "stream": "stdout",
       "text": [
        " found type (2,3)\n",
        "161"
       ]
      },
      {
       "output_type": "stream",
       "stream": "stdout",
       "text": [
        " found type (1,2)\n",
        "162 found type (2,3)\n",
        "163"
       ]
      },
      {
       "output_type": "stream",
       "stream": "stdout",
       "text": [
        " found type (1,1)\n",
        "164"
       ]
      },
      {
       "output_type": "stream",
       "stream": "stdout",
       "text": [
        " found type (1,3)\n",
        "165"
       ]
      },
      {
       "output_type": "stream",
       "stream": "stdout",
       "text": [
        " found type (1,3)\n",
        "166 found type (3,2)\n",
        "167"
       ]
      },
      {
       "output_type": "stream",
       "stream": "stdout",
       "text": [
        " found type (1,1)\n",
        "168"
       ]
      },
      {
       "output_type": "stream",
       "stream": "stdout",
       "text": [
        " found type (1,2)\n",
        "169"
       ]
      },
      {
       "output_type": "stream",
       "stream": "stdout",
       "text": [
        " found type (1,3)\n",
        "170"
       ]
      },
      {
       "output_type": "stream",
       "stream": "stdout",
       "text": [
        " found type (2,3)\n",
        "171"
       ]
      },
      {
       "output_type": "stream",
       "stream": "stdout",
       "text": [
        " found type (1,1)\n",
        "172"
       ]
      },
      {
       "output_type": "stream",
       "stream": "stdout",
       "text": [
        " found type (1,3)\n",
        "173 found type (2,2)\n",
        "174"
       ]
      },
      {
       "output_type": "stream",
       "stream": "stdout",
       "text": [
        " found type (2,3)\n",
        "175 found type (1,1)\n",
        "176"
       ]
      },
      {
       "output_type": "stream",
       "stream": "stdout",
       "text": [
        " found type (2,3)\n",
        "177"
       ]
      },
      {
       "output_type": "stream",
       "stream": "stdout",
       "text": [
        " found type (1,2)\n",
        "178 found type (2,3)\n",
        "179"
       ]
      },
      {
       "output_type": "stream",
       "stream": "stdout",
       "text": [
        " found type (3,1)\n",
        "180"
       ]
      },
      {
       "output_type": "stream",
       "stream": "stdout",
       "text": [
        " found type (1,3)\n",
        "181"
       ]
      },
      {
       "output_type": "stream",
       "stream": "stdout",
       "text": [
        " found type (2,2)\n",
        "182"
       ]
      },
      {
       "output_type": "stream",
       "stream": "stdout",
       "text": [
        " found type (2,3)\n",
        "183 found type (1,1)\n",
        "184"
       ]
      },
      {
       "output_type": "stream",
       "stream": "stdout",
       "text": [
        " found type (2,3)\n",
        "185 found type (2,1)\n",
        "186"
       ]
      },
      {
       "output_type": "stream",
       "stream": "stdout",
       "text": [
        " found type (2,3)\n",
        "187"
       ]
      },
      {
       "output_type": "stream",
       "stream": "stdout",
       "text": [
        " found type (3,1)\n",
        "188"
       ]
      },
      {
       "output_type": "stream",
       "stream": "stdout",
       "text": [
        " found type (3,1)\n",
        "189"
       ]
      },
      {
       "output_type": "stream",
       "stream": "stdout",
       "text": [
        " found type (2,2)\n",
        "190 found type (3,2)\n",
        "191"
       ]
      },
      {
       "output_type": "stream",
       "stream": "stdout",
       "text": [
        " found type (1,1)\n",
        "192"
       ]
      },
      {
       "output_type": "stream",
       "stream": "stdout",
       "text": [
        " found type (1,3)\n",
        "193"
       ]
      },
      {
       "output_type": "stream",
       "stream": "stdout",
       "text": [
        " found type (1,2)\n",
        "194"
       ]
      },
      {
       "output_type": "stream",
       "stream": "stdout",
       "text": [
        " found type (2,3)\n",
        "195 found type (1,1)\n",
        "196"
       ]
      },
      {
       "output_type": "stream",
       "stream": "stdout",
       "text": [
        " found type (1,3)\n",
        "197"
       ]
      },
      {
       "output_type": "stream",
       "stream": "stdout",
       "text": [
        " found type (1,3)\n",
        "198 found type (2,3)\n",
        "199"
       ]
      },
      {
       "output_type": "stream",
       "stream": "stdout",
       "text": [
        " found type (1,1)\n",
        "200 found type (2,3)\n"
       ]
      }
     ],
     "prompt_number": 5
    },
    {
     "cell_type": "markdown",
     "metadata": {},
     "source": [
      "Next we do a search for self-shuffling squares of length < 29."
     ]
    },
    {
     "cell_type": "code",
     "collapsed": false,
     "input": [
      "from collections import deque\n",
      "def SquarefreeWords(n):\n",
      "    \"\"\"\n",
      "    Return a list of squarefree ternary words of length n.\n",
      "    \"\"\"\n",
      "    q = deque()\n",
      "    q.append('0')\n",
      "    q.append('1')\n",
      "    q.append('2')\n",
      "    w = q.popleft()\n",
      "    while len(w) <= n:\n",
      "        if len(w) == n:\n",
      "            yield(w)\n",
      "        if not sq.search(w + '0'):\n",
      "            q.append(w + '0')\n",
      "        if not sq.search(w + '1'):\n",
      "            q.append(w + '1')\n",
      "        if not sq.search(w + '2'):\n",
      "            q.append(w + '2')\n",
      "        w = q.popleft()"
     ],
     "language": "python",
     "metadata": {},
     "outputs": [],
     "prompt_number": 6
    },
    {
     "cell_type": "code",
     "collapsed": false,
     "input": [
      "def FindSimpleSelfShuffle(n):\n",
      "    \"\"\"\n",
      "    Go through all ternary squarefree words of length n and \n",
      "    try find one that has a squarefree simple self-shuffle.\n",
      "    \"\"\"\n",
      "    for w in SquarefreeWords(n):\n",
      "        for i in range(1, n):\n",
      "            for j in range(1, n):\n",
      "                u = w[:-i] + w[:j] + w[-i:] + w[j:]\n",
      "                if not sq.search(u):\n",
      "                    print(\"{:<3}\".format(n), \"found type\", \"({0}, {1:<2})\".format(i,j), w)\n",
      "                    return True\n",
      "    return False"
     ],
     "language": "python",
     "metadata": {},
     "outputs": [],
     "prompt_number": 7
    },
    {
     "cell_type": "code",
     "collapsed": false,
     "input": [
      "for n in range(3, 29):\n",
      "    if not FindSimpleSelfShuffle(n):\n",
      "        print(\"{:<3}\".format(n), \"not found\")"
     ],
     "language": "python",
     "metadata": {},
     "outputs": [
      {
       "output_type": "stream",
       "stream": "stdout",
       "text": [
        "3   found type (1, 1 ) 012\n",
        "4   found type (1, 2 ) 0120\n",
        "5   found type (1, 3 ) 01210\n",
        "6   found type (1, 2 ) 010212\n",
        "7   found type (1, 4 ) 0102120\n",
        "8   found type (2, 5 ) 01021201\n",
        "9   found type (1, 6 ) 012102120\n",
        "10 "
       ]
      },
      {
       "output_type": "stream",
       "stream": "stdout",
       "text": [
        " not found\n",
        "11  found type (1, 4 ) 01020121021\n",
        "12  found type (1, 10) 010201202120\n",
        "13  found type (2, 10) 0102012021201\n",
        "14 "
       ]
      },
      {
       "output_type": "stream",
       "stream": "stdout",
       "text": [
        " found type (2, 8 ) 01021012021201\n",
        "15  found type (4, 4 ) 010201202120121\n",
        "16 "
       ]
      },
      {
       "output_type": "stream",
       "stream": "stdout",
       "text": [
        " found type (5, 10) 0102012021201210\n",
        "17 "
       ]
      },
      {
       "output_type": "stream",
       "stream": "stdout",
       "text": [
        " found type (2, 11) 01020121012021201\n",
        "18 "
       ]
      },
      {
       "output_type": "stream",
       "stream": "stdout",
       "text": [
        " found type (5, 7 ) 010201202101210201\n",
        "19 "
       ]
      },
      {
       "output_type": "stream",
       "stream": "stdout",
       "text": [
        " found type (1, 13) 0102012021012102120\n",
        "20 "
       ]
      },
      {
       "output_type": "stream",
       "stream": "stdout",
       "text": [
        " found type (7, 9 ) 01020120210121020102\n",
        "21 "
       ]
      },
      {
       "output_type": "stream",
       "stream": "stdout",
       "text": [
        " found type (8, 1 ) 010201202101210212012\n",
        "22 "
       ]
      },
      {
       "output_type": "stream",
       "stream": "stdout",
       "text": [
        " found type (4, 2 ) 0102012021012010212021\n",
        "23 "
       ]
      },
      {
       "output_type": "stream",
       "stream": "stdout",
       "text": [
        " found type (7, 4 ) 01020120210121021202102\n",
        "24 "
       ]
      },
      {
       "output_type": "stream",
       "stream": "stdout",
       "text": [
        " found type (2, 21) 010201202101210201021201\n",
        "25 "
       ]
      },
      {
       "output_type": "stream",
       "stream": "stdout",
       "text": [
        " found type (4, 2 ) 0102012021012102010212021\n",
        "26 "
       ]
      },
      {
       "output_type": "stream",
       "stream": "stdout",
       "text": [
        " found type (1, 24) 01020120210120102101202120\n",
        "27 "
       ]
      },
      {
       "output_type": "stream",
       "stream": "stdout",
       "text": [
        " found type (1, 24) 010201202101201021012102120\n",
        "28 "
       ]
      },
      {
       "output_type": "stream",
       "stream": "stdout",
       "text": [
        " found type (3, 21) 0102012021012010201210212012\n"
       ]
      }
     ],
     "prompt_number": 8
    },
    {
     "cell_type": "markdown",
     "metadata": {},
     "source": [
      "Finally, we give a squarefree word of length 10 with a squarefree self-shuffle:"
     ]
    },
    {
     "cell_type": "code",
     "collapsed": false,
     "input": [
      "w = \"0102120102\"\n",
      "print(w)\n",
      "print(len(w))\n",
      "if sq.search(w):\n",
      "    print(w, \"is not squarefree\")\n",
      "else:\n",
      "    print(w, \"is squarefree\")\n",
      "u = w[:4] + w[:1] + w[4:6] + w[1:4] + w[6:] + w[4:]\n",
      "print(u)\n",
      "print(len(u))\n",
      "if sq.search(u):\n",
      "    print(u, \"is not squarefree\")\n",
      "else:\n",
      "    print(u, \"is squarefree\")"
     ],
     "language": "python",
     "metadata": {},
     "outputs": [
      {
       "output_type": "stream",
       "stream": "stdout",
       "text": [
        "0102120102\n",
        "10\n",
        "0102120102 is squarefree\n",
        "01020121020102120102\n",
        "20\n",
        "01020121020102120102 is squarefree\n"
       ]
      }
     ],
     "prompt_number": 9
    },
    {
     "cell_type": "markdown",
     "metadata": {},
     "source": [
      "<h2> A check that every length-40 factor of VTM contains 02101 </h2> \n",
      "\n",
      "Avgustinovich and Frid have shown that the factor complexity of VTM is\n",
      "\n",
      "p(n) = 2n + 2^{k+2} if 3*2^k     < n <=   2^{k+2}\n",
      "\n",
      "p(n) = 4n - 2^{k+2} if   2^{k+2} < n <= 3*2^{k+1}.\n",
      "\n",
      "Thus we have p(40) = 128.\n",
      "\n",
      "The following computations show first that X has 128 distinct factors of length 40\n",
      "and then that each of these factors has an occurrence of 02102."
     ]
    },
    {
     "cell_type": "code",
     "collapsed": false,
     "input": [
      "def Factors(w, n):\n",
      "    \"\"\"\n",
      "    Return a list of all length-n factors of w.\n",
      "    \"\"\"\n",
      "    bag = [] \n",
      "    for i in range(len(w) - n):\n",
      "            bag.append(w[i: i + n])\n",
      "    return set(bag)"
     ],
     "language": "python",
     "metadata": {},
     "outputs": [],
     "prompt_number": 10
    },
    {
     "cell_type": "code",
     "collapsed": false,
     "input": [
      "F40 = Factors(X, 40)\n",
      "print(\"X has {} factors of length 40\".format(len(F40)))\n",
      "for w in F40:\n",
      "    if '02102' not in w:\n",
      "        print(w, \"does not contain 02102\")\n",
      "        break\n",
      "else:\n",
      "    print(\"All length-40 factors contain 02102\")"
     ],
     "language": "python",
     "metadata": {},
     "outputs": [
      {
       "output_type": "stream",
       "stream": "stdout",
       "text": [
        "X has 128 factors of length 40\n",
        "All length-40 factors contain 02102\n"
       ]
      }
     ],
     "prompt_number": 11
    },
    {
     "cell_type": "code",
     "collapsed": false,
     "input": [],
     "language": "python",
     "metadata": {},
     "outputs": []
    }
   ],
   "metadata": {}
  }
 ]
}
